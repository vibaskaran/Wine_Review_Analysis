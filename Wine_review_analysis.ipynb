{
 "cells": [
  {
   "cell_type": "markdown",
   "metadata": {},
   "source": [
    "# Project Description"
   ]
  },
  {
   "cell_type": "markdown",
   "metadata": {},
   "source": [
    "#### This is a project based on the winery data downloaded from Kaggle website\n",
    "#### The data was scraped from WineEnthusiast  http://www.wineenthusiast.com/   during the week of June 15th, 2017\n",
    "#### We are trying to predict the wine rating 'points' based on the other features"
   ]
  },
  {
   "cell_type": "markdown",
   "metadata": {},
   "source": [
    "# Dataset Details"
   ]
  },
  {
   "cell_type": "markdown",
   "metadata": {},
   "source": [
    "## The data consists of 10 fields:\n",
    "\n",
    "- #### Country: The country that the wine is from\n",
    "- #### Description: Few sentences from a sommelier describing the wine's taste, smell, look, feel, etc.\n",
    "- #### Designation: The vineyard within the winery where the grapes that made the wine are from\n",
    "- #### Points: The number of points WineEnthusiast rated the wine on a scale of 1-100 (though they say they only post reviews for wines that score >=80)\n",
    "- #### Price: The cost for a bottle of the wine\n",
    "- #### Province: The province or state that the wine is from\n",
    "- #### Region 1: The wine growing area in a province or state (ie Napa)\n",
    "- #### Region 2: Sometimes there are more specific regions specified within a wine growing area (ie Rutherford inside the Napa Valley), but this value can sometimes be blank\n",
    "- #### Variety: the type of grapes used to make the wine (ie Pinot Noir)\n",
    "- #### Winery: The winery that made the wine"
   ]
  },
  {
   "cell_type": "markdown",
   "metadata": {},
   "source": [
    "### Data Types of the columns\n",
    "\n",
    "- country    :    object\n",
    "- description:    object\n",
    "- designation:    object\n",
    "- points     :    int64\n",
    "- price      :    float64\n",
    "- province   :    object\n",
    "- region_1   :    object\n",
    "- region_2   :    object\n",
    "- variety    :    object\n",
    "- winery     :    object"
   ]
  },
  {
   "cell_type": "markdown",
   "metadata": {},
   "source": [
    "### Import the dependencies"
   ]
  },
  {
   "cell_type": "code",
   "execution_count": 1,
   "metadata": {
    "_cell_guid": "8cf149aa-f703-4ca9-9235-0957bee89c2c",
    "_uuid": "a4a0d40ad23e45c19bd22030178d1687004131ef",
    "collapsed": true
   },
   "outputs": [],
   "source": [
    "import numpy as np \n",
    "import pandas as pd \n",
    "import matplotlib.pyplot as plt\n",
    "import seaborn as sns\n",
    "from random import randint\n",
    "import warnings\n",
    "warnings.filterwarnings('ignore')\n",
    "import ipywidgets as widgets\n",
    "from IPython.display import display, HTML\n",
    "from ipywidgets import interactive, Layout, Textarea, Dropdown, Label\n",
    "HTML('<style> .widget-hbox .widget-label { max-width:350ex; text-align:left} </style>')\n",
    "%matplotlib inline  "
   ]
  },
  {
   "cell_type": "markdown",
   "metadata": {
    "_cell_guid": "84cc68de-230b-4bf3-bbbb-6b656faa3a0b",
    "_uuid": "a40f2de1eee684e0d33e42f7c98d893912d9bf5b"
   },
   "source": [
    "### Initial Overview of Data"
   ]
  },
  {
   "cell_type": "code",
   "execution_count": 2,
   "metadata": {},
   "outputs": [
    {
     "name": "stdout",
     "output_type": "stream",
     "text": [
      "Length of dataframe before duplicates are removed: 150930\n"
     ]
    }
   ],
   "source": [
    "init_data = pd.read_csv(\"winemag-data_first150k.csv\")\n",
    "print(\"Length of dataframe before duplicates are removed:\", len(init_data))"
   ]
  },
  {
   "cell_type": "markdown",
   "metadata": {},
   "source": [
    "#### Data Cleansing"
   ]
  },
  {
   "cell_type": "code",
   "execution_count": 3,
   "metadata": {},
   "outputs": [
    {
     "name": "stdout",
     "output_type": "stream",
     "text": [
      "Length of dataframe after duplicates are removed: 92393\n",
      "Length of dataframe after cleanup: 69492\n"
     ]
    }
   ],
   "source": [
    "wineData = init_data[init_data.duplicated('description', keep=False)]\n",
    "print(\"Length of dataframe after duplicates are removed:\", len(wineData))\n",
    "wineData = wineData[['province','variety','country','price','points','region_1','winery']]\n",
    "wineData = wineData.dropna(subset=['province','variety','country','price','points','region_1','winery'], how='any')\n",
    "wineData.drop_duplicates(keep='first')\n",
    "print(\"Length of dataframe after cleanup:\", len(wineData))"
   ]
  },
  {
   "cell_type": "markdown",
   "metadata": {},
   "source": [
    "### Exploratory Data Analysis"
   ]
  },
  {
   "cell_type": "markdown",
   "metadata": {},
   "source": [
    "#### Correlation between Points and Price"
   ]
  },
  {
   "cell_type": "code",
   "execution_count": 4,
   "metadata": {},
   "outputs": [
    {
     "name": "stdout",
     "output_type": "stream",
     "text": [
      "Pearson Correlation: (0.49071198316667447, 0.0)\n",
      "                            OLS Regression Results                            \n",
      "==============================================================================\n",
      "Dep. Variable:                 points   R-squared:                       0.502\n",
      "Model:                            OLS   Adj. R-squared:                  0.502\n",
      "Method:                 Least Squares   F-statistic:                 7.005e+04\n",
      "Date:                Tue, 30 Jan 2018   Prob (F-statistic):               0.00\n",
      "Time:                        18:56:13   Log-Likelihood:            -3.8533e+05\n",
      "No. Observations:               69492   AIC:                         7.707e+05\n",
      "Df Residuals:                   69491   BIC:                         7.707e+05\n",
      "Df Model:                           1                                         \n",
      "Covariance Type:            nonrobust                                         \n",
      "==============================================================================\n",
      "                 coef    std err          t      P>|t|      [0.025      0.975]\n",
      "------------------------------------------------------------------------------\n",
      "price          1.2845      0.005    264.675      0.000       1.275       1.294\n",
      "==============================================================================\n",
      "Omnibus:                   105156.125   Durbin-Watson:                   0.651\n",
      "Prob(Omnibus):                  0.000   Jarque-Bera (JB):        110208916.471\n",
      "Skew:                          -9.132   Prob(JB):                         0.00\n",
      "Kurtosis:                     197.238   Cond. No.                         1.00\n",
      "==============================================================================\n",
      "\n",
      "Warnings:\n",
      "[1] Standard Errors assume that the covariance matrix of the errors is correctly specified.\n"
     ]
    },
    {
     "data": {
      "text/plain": [
       "<seaborn.axisgrid.FacetGrid at 0x22a0b48b780>"
      ]
     },
     "execution_count": 4,
     "metadata": {},
     "output_type": "execute_result"
    },
    {
     "data": {
      "image/png": "[encoded data removed]",
      "text/plain": [
       "<matplotlib.figure.Figure at 0x22a12c47940>"
      ]
     },
     "metadata": {},
     "output_type": "display_data"
    }
   ],
   "source": [
    "from scipy.stats import pearsonr\n",
    "import statsmodels.api as sm\n",
    "print(\"Pearson Correlation:\", pearsonr(wineData.price, wineData.points))\n",
    "print(sm.OLS(wineData.points, wineData.price).fit().summary())\n",
    "sns.lmplot(y = 'price', x='points', data=wineData)"
   ]
  },
  {
   "cell_type": "markdown",
   "metadata": {},
   "source": [
    "#### Correlation between Country and Points"
   ]
  },
  {
   "cell_type": "code",
   "execution_count": 5,
   "metadata": {
    "collapsed": true
   },
   "outputs": [],
   "source": [
    "# print(\"Pearson Correlation:\", pearsonr(wineData.country, wineData.points))\n",
    "# print(sm.OLS(wineData.points, wineData.country).fit().summary())\n",
    "# sns.lmplot(y = 'country', x='points', data=wineData)"
   ]
  },
  {
   "cell_type": "markdown",
   "metadata": {},
   "source": [
    "##### Statsmodel could not be used to correlate since 'country' is categorical data(non-numeric) \n",
    "\n",
    "##### Hence we will try to use box-plot to show top 5 countries and how their wines are rated."
   ]
  },
  {
   "cell_type": "code",
   "execution_count": 6,
   "metadata": {},
   "outputs": [
    {
     "data": {
      "text/plain": [
       "[<matplotlib.text.Text at 0x22a0e12a780>,\n",
       " <matplotlib.text.Text at 0x22a0ee82390>,\n",
       " <matplotlib.text.Text at 0x22a0f20da58>,\n",
       " <matplotlib.text.Text at 0x22a0f152518>,\n",
       " <matplotlib.text.Text at 0x22a0f152fd0>]"
      ]
     },
     "execution_count": 6,
     "metadata": {},
     "output_type": "execute_result"
    },
    {
     "data": {
      "image/png": "[encoded data removed]",
      "text/plain": [
       "<matplotlib.figure.Figure at 0x22a0dc142b0>"
      ]
     },
     "metadata": {},
     "output_type": "display_data"
    }
   ],
   "source": [
    "ax = sns.boxplot(\n",
    "    x='country',\n",
    "    y='points',\n",
    "    data=wineData[wineData.country.isin(wineData.country.value_counts().head(5).index)]\n",
    ")\n",
    "ax.set_xticklabels(ax.get_xticklabels(),rotation=90)"
   ]
  },
  {
   "cell_type": "markdown",
   "metadata": {},
   "source": [
    "### Correlation between Variety and Points"
   ]
  },
  {
   "cell_type": "markdown",
   "metadata": {},
   "source": [
    "#### Box  Plot"
   ]
  },
  {
   "cell_type": "code",
   "execution_count": 7,
   "metadata": {},
   "outputs": [
    {
     "data": {
      "text/plain": [
       "[<matplotlib.text.Text at 0x22a0f340198>,\n",
       " <matplotlib.text.Text at 0x22a0f344128>,\n",
       " <matplotlib.text.Text at 0x22a0f3f0dd8>,\n",
       " <matplotlib.text.Text at 0x22a0f3f7898>,\n",
       " <matplotlib.text.Text at 0x22a0f3fb390>]"
      ]
     },
     "execution_count": 7,
     "metadata": {},
     "output_type": "execute_result"
    },
    {
     "data": {
      "image/png": "[encoded data removed]",
      "text/plain": [
       "<matplotlib.figure.Figure at 0x22a0f155ac8>"
      ]
     },
     "metadata": {},
     "output_type": "display_data"
    }
   ],
   "source": [
    "ax = sns.boxplot(\n",
    "    x='variety',\n",
    "    y='points',\n",
    "    data=wineData[wineData.variety.isin(wineData.variety.value_counts().head(5).index)]\n",
    ")\n",
    "ax.set_xticklabels(ax.get_xticklabels(),rotation=90)"
   ]
  },
  {
   "cell_type": "markdown",
   "metadata": {},
   "source": [
    "#### Violin Plot"
   ]
  },
  {
   "cell_type": "code",
   "execution_count": 8,
   "metadata": {},
   "outputs": [
    {
     "data": {
      "text/plain": [
       "[<matplotlib.text.Text at 0x22a0eb4b630>,\n",
       " <matplotlib.text.Text at 0x22a0eb51198>,\n",
       " <matplotlib.text.Text at 0x22a0ed0f6a0>,\n",
       " <matplotlib.text.Text at 0x22a0ed14198>,\n",
       " <matplotlib.text.Text at 0x22a0ed14c50>]"
      ]
     },
     "execution_count": 8,
     "metadata": {},
     "output_type": "execute_result"
    },
    {
     "data": {
      "image/png": "[encoded data removed]",
      "text/plain": [
       "<matplotlib.figure.Figure at 0x22a0e0c0470>"
      ]
     },
     "metadata": {},
     "output_type": "display_data"
    }
   ],
   "source": [
    "ax = sns.violinplot(\n",
    "    x='variety',\n",
    "    y='points',\n",
    "    data=wineData[wineData.variety.isin(wineData.variety.value_counts()[:5].index)]\n",
    ")\n",
    "ax.set_xticklabels(ax.get_xticklabels(),rotation=90)"
   ]
  },
  {
   "cell_type": "markdown",
   "metadata": {},
   "source": [
    "#### Bar Plot for count of wines with specific rating"
   ]
  },
  {
   "cell_type": "code",
   "execution_count": 9,
   "metadata": {},
   "outputs": [
    {
     "data": {
      "text/plain": [
       "<matplotlib.axes._subplots.AxesSubplot at 0x22a0eb40b70>"
      ]
     },
     "execution_count": 9,
     "metadata": {},
     "output_type": "execute_result"
    },
    {
     "data": {
      "image/png": "[encoded data removed]",
      "text/plain": [
       "<matplotlib.figure.Figure at 0x22a0dc1b6d8>"
      ]
     },
     "metadata": {},
     "output_type": "display_data"
    }
   ],
   "source": [
    "sns.countplot(wineData['points'])"
   ]
  },
  {
   "cell_type": "markdown",
   "metadata": {},
   "source": [
    "#### Distribution Line Graph for wines less than $200"
   ]
  },
  {
   "cell_type": "code",
   "execution_count": 10,
   "metadata": {
    "scrolled": true
   },
   "outputs": [
    {
     "data": {
      "text/plain": [
       "<matplotlib.axes._subplots.AxesSubplot at 0x22a0ec10a58>"
      ]
     },
     "execution_count": 10,
     "metadata": {},
     "output_type": "execute_result"
    },
    {
     "data": {
      "image/png": "[encoded data removed]",
      "text/plain": [
       "<matplotlib.figure.Figure at 0x22a0ec3ba20>"
      ]
     },
     "metadata": {},
     "output_type": "display_data"
    }
   ],
   "source": [
    "sns.kdeplot(wineData.query('price < 200').price)"
   ]
  },
  {
   "cell_type": "markdown",
   "metadata": {
    "_cell_guid": "e2f9cc1b-3eed-4c81-b4f4-afe8ee4523b3",
    "_uuid": "2d29d8a008e0696ac24a352d19f3a776e06222b9"
   },
   "source": [
    "## Prediction using a Decision Tree"
   ]
  },
  {
   "cell_type": "code",
   "execution_count": 11,
   "metadata": {},
   "outputs": [
    {
     "name": "stdout",
     "output_type": "stream",
     "text": [
      "(69492, 8445) (69492,)\n"
     ]
    }
   ],
   "source": [
    "from sklearn.model_selection import train_test_split\n",
    "from sklearn.tree import DecisionTreeClassifier\n",
    "clf = DecisionTreeClassifier(random_state=10)\n",
    "\n",
    "## create the x and y columns\n",
    "x_unsplit = wineData[['variety', 'price', 'winery', 'region_1']]\n",
    "y_unsplit = wineData['points']\n",
    "## one hot encode the data\n",
    "x_unsplit = pd.get_dummies(x_unsplit, columns=['variety', 'winery', 'region_1'])\n",
    "print(x_unsplit.shape, y_unsplit.shape)\n",
    "## get the training and testing data\n",
    "X_train, X_test, y_train, y_test = train_test_split(x_unsplit, y_unsplit, random_state=1, train_size=0.90)"
   ]
  },
  {
   "cell_type": "code",
   "execution_count": 12,
   "metadata": {
    "_cell_guid": "1ceb898d-305f-4f24-9b09-035bcf33cb42",
    "_uuid": "5bac51a5ece961f4cb3657550a1a8dcf0fa34a50"
   },
   "outputs": [
    {
     "name": "stdout",
     "output_type": "stream",
     "text": [
      "R-squared/Accuracy value for Decision Tree: 0.807194244604\n"
     ]
    }
   ],
   "source": [
    "X_train_mean = X_train.fillna({\"price\": x_unsplit['price'].mean()})\n",
    "X_test_mean = X_test.fillna({\"price\":x_unsplit['price'].mean()})\n",
    "clf.fit(X_train_mean, y_train)\n",
    "\n",
    "y_predictions = clf.predict(X_test_mean)\n",
    "\n",
    "# clf.score(y_test,y_predictions)\n",
    "from sklearn.metrics import accuracy_score\n",
    "dt_acc = accuracy_score(y_test,y_predictions)\n",
    "print(\"R-squared/Accuracy value for Decision Tree:\",dt_acc)"
   ]
  },
  {
   "cell_type": "markdown",
   "metadata": {},
   "source": [
    "#### Using Decision Tree - Accuracy approx 80% "
   ]
  },
  {
   "cell_type": "markdown",
   "metadata": {},
   "source": [
    "## Prediction using a Random Forest"
   ]
  },
  {
   "cell_type": "code",
   "execution_count": 13,
   "metadata": {
    "collapsed": true
   },
   "outputs": [],
   "source": [
    "from sklearn.ensemble import RandomForestClassifier\n",
    "forest_clf = RandomForestClassifier()"
   ]
  },
  {
   "cell_type": "code",
   "execution_count": 14,
   "metadata": {},
   "outputs": [
    {
     "name": "stdout",
     "output_type": "stream",
     "text": [
      "R-squared/Accuracy value for Random Forest: 0.800863309353\n"
     ]
    }
   ],
   "source": [
    "forest_clf.fit(X_train_mean, y_train)\n",
    "forest_predictions = forest_clf.predict(X_test_mean)\n",
    "rf_acc = accuracy_score(y_test,forest_predictions)\n",
    "print(\"R-squared/Accuracy value for Random Forest:\",rf_acc)\n",
    "# print(rf_acc)"
   ]
  },
  {
   "cell_type": "markdown",
   "metadata": {},
   "source": [
    "#### Using Random Forest - Accuracy approx 79% "
   ]
  },
  {
   "cell_type": "markdown",
   "metadata": {},
   "source": [
    "## Set up for Predictions"
   ]
  },
  {
   "cell_type": "markdown",
   "metadata": {},
   "source": [
    "#### 1. Creating List for categories\n",
    "#### 2. Defining function for prediction"
   ]
  },
  {
   "cell_type": "code",
   "execution_count": 15,
   "metadata": {
    "collapsed": true
   },
   "outputs": [],
   "source": [
    "variety_category = sorted(wineData['variety'].unique().tolist())\n",
    "winery_category = sorted(wineData['winery'].unique().tolist())\n",
    "region_1_category = sorted(wineData['region_1'].unique().tolist())\n",
    "\n",
    "columnList = X_test_mean.columns.tolist()\n",
    "\n",
    "def add_missing_dummy_columns( d, columns ):\n",
    "    missing_cols = set( columns ) - set( d.columns )\n",
    "    for c in missing_cols:\n",
    "        d[c] = 0\n",
    "        \n",
    "def predict_points(varietyVal, priceVal, wineryVal, region1Val):\n",
    "    df1 = pd.DataFrame({'variety': varietyVal, 'price': priceVal, 'winery': wineryVal, 'region_1': region1Val}, index=[0])\n",
    "    new_sample = pd.get_dummies(df1)\n",
    "    add_missing_dummy_columns(new_sample, columnList)\n",
    "    new_sample1_prd = clf.predict(new_sample)\n",
    "#     print(new_sample1_prd[0])\n",
    "    return new_sample1_prd[0]"
   ]
  },
  {
   "cell_type": "markdown",
   "metadata": {},
   "source": [
    "### Interactive dropdown to select value for Features"
   ]
  },
  {
   "cell_type": "markdown",
   "metadata": {},
   "source": [
    "#### Definition for the layout for the Input Selection"
   ]
  },
  {
   "cell_type": "code",
   "execution_count": 16,
   "metadata": {
    "collapsed": true
   },
   "outputs": [],
   "source": [
    "form_item_layout = Layout(\n",
    "    display='flex',\n",
    "    #flex_flow='row',\n",
    "    justify_content='space-between',\n",
    "    flex_flow='column',\n",
    "    border='solid 2px',\n",
    "    align_items='stretch',\n",
    "    width='70%'\n",
    ")"
   ]
  },
  {
   "cell_type": "code",
   "execution_count": 17,
   "metadata": {},
   "outputs": [
    {
     "data": {
      "application/vnd.jupyter.widget-view+json": {
       "model_id": "1c610a293a6e440680952e771d71a72b"
      }
     },
     "metadata": {},
     "output_type": "display_data"
    },
    {
     "data": {
      "application/vnd.jupyter.widget-view+json": {
       "model_id": "0cd3d6f226f84711b8cc9cf495e807a6"
      }
     },
     "metadata": {},
     "output_type": "display_data"
    },
    {
     "data": {
      "application/vnd.jupyter.widget-view+json": {
       "model_id": "a94deaa6de764375a6da8e05cd94f401"
      }
     },
     "metadata": {},
     "output_type": "display_data"
    },
    {
     "data": {
      "application/vnd.jupyter.widget-view+json": {
       "model_id": "878da6fe7a1b452dbf0bff5591860e35"
      }
     },
     "metadata": {},
     "output_type": "display_data"
    }
   ],
   "source": [
    "def f1(variety):\n",
    "    return variety\n",
    "\n",
    "def f3(winery):\n",
    "    return winery\n",
    "\n",
    "def f4(region_1):\n",
    "    return region_1\n",
    "\n",
    "def f5(price):\n",
    "    return price\n",
    "\n",
    "variety = interactive(f1,variety=variety_category)\n",
    "winery = interactive(f3,winery=winery_category)\n",
    "region_1 = interactive(f4,region_1=region_1_category)\n",
    "price = interactive(f5, price='10')\n",
    "\n",
    "display(variety)\n",
    "display(winery)\n",
    "display(region_1)\n",
    "display(price)"
   ]
  },
  {
   "cell_type": "code",
   "execution_count": 18,
   "metadata": {},
   "outputs": [
    {
     "name": "stdout",
     "output_type": "stream",
     "text": [
      "Aglianico\n",
      "1+1=3\n",
      "Abruzzo\n",
      "10.0\n"
     ]
    }
   ],
   "source": [
    "selected_variety = variety.result\n",
    "print(selected_variety)\n",
    "selected_winery = winery.result\n",
    "print(selected_winery)\n",
    "selected_region_1 = region_1.result\n",
    "print(selected_region_1)\n",
    "selected_price = float(price.result)\n",
    "print(selected_price)"
   ]
  },
  {
   "cell_type": "code",
   "execution_count": 19,
   "metadata": {},
   "outputs": [
    {
     "data": {
      "text/plain": [
       "85"
      ]
     },
     "execution_count": 19,
     "metadata": {},
     "output_type": "execute_result"
    }
   ],
   "source": [
    "predict_points(selected_variety,selected_price,selected_winery,selected_region_1)"
   ]
  },
  {
   "cell_type": "markdown",
   "metadata": {},
   "source": [
    "### Filter records which are not used for training the algorithm"
   ]
  },
  {
   "cell_type": "code",
   "execution_count": 20,
   "metadata": {},
   "outputs": [
    {
     "name": "stdout",
     "output_type": "stream",
     "text": [
      "Length of dataframe before duplicates are removed: 150930\n",
      "Length of dataframe before duplicates are removed: 129971\n",
      "Count of Wines in 130k list only (which are not in 150k list): 79191\n",
      "After removing duplicates: 9018\n",
      "dataset size before removing records with Nan's: 9018\n",
      "dataset size after removing records with Nan's: 7070\n"
     ]
    }
   ],
   "source": [
    "wine150k = pd.read_csv(\"winemag-data_first150k.csv\")\n",
    "print(\"Length of dataframe before duplicates are removed:\", len(wine150k))\n",
    "\n",
    "wine150k = wine150k.drop('Unnamed: 0',  axis=1)\n",
    "\n",
    "wine130k = pd.read_csv(\"winemag-data-130k-v2.csv\")\n",
    "print(\"Length of dataframe before duplicates are removed:\", len(wine130k))\n",
    "\n",
    "wine130k = wine130k.drop('Unnamed: 0',  axis=1)\n",
    "\n",
    "df = pd.merge(wine130k, wine150k, how='outer', indicator=True)\n",
    "onlyIn130kList_allCol = df[df['_merge']=='left_only'][wine130k.columns]\n",
    "\n",
    "print(\"Count of Wines in 130k list only (which are not in 150k list):\",len(onlyIn130kList_allCol))\n",
    "\n",
    "onlyIn130kList = onlyIn130kList_allCol[['variety', 'province', 'price', 'winery', 'region_1', 'points']]\n",
    "\n",
    "uniqueIn130kList = onlyIn130kList[onlyIn130kList.duplicated(keep=False)]\n",
    "\n",
    "uniqueIn130kList = uniqueIn130kList.drop_duplicates(keep='first')\n",
    "\n",
    "print(\"After removing duplicates:\",len(uniqueIn130kList))\n",
    "\n",
    "\n",
    "print(\"dataset size before removing records with Nan's:\",len(uniqueIn130kList))\n",
    "uniqueIn130kList = uniqueIn130kList.dropna(subset=['province','variety','price','points','region_1'], how='any')\n",
    "print(\"dataset size after removing records with Nan's:\",len(uniqueIn130kList))\n",
    "\n",
    "\n",
    "def getDataBetweenRecrds(startIndex, endIndex):\n",
    "    resRecords = uniqueIn130kList[startIndex:endIndex]\n",
    "    return resRecords\n",
    "\n",
    "lastIndex = len(uniqueIn130kList)\n"
   ]
  },
  {
   "cell_type": "code",
   "execution_count": 21,
   "metadata": {
    "collapsed": true
   },
   "outputs": [],
   "source": [
    "def selectRandomWine():\n",
    "    randomWineIndex = randint(1, lastIndex)\n",
    "    selectedRecord = getDataBetweenRecrds(randomWineIndex-1,randomWineIndex)\n",
    "    return selectedRecord"
   ]
  },
  {
   "cell_type": "code",
   "execution_count": 22,
   "metadata": {
    "collapsed": true
   },
   "outputs": [],
   "source": [
    "def isValPresent(valToCheck, lstToCheck):\n",
    "    if valToCheck in lstToCheck:\n",
    "        return True\n",
    "    else:\n",
    "        return False"
   ]
  },
  {
   "cell_type": "code",
   "execution_count": 23,
   "metadata": {
    "collapsed": true
   },
   "outputs": [],
   "source": [
    "def canWineBePredicted(variety,winery,region):\n",
    "    varietyPresent = isValPresent(variety, variety_category)\n",
    "    wineryPresent = isValPresent(winery, winery_category)\n",
    "    region_1Present = isValPresent(region, region_1_category)\n",
    "    if (varietyPresent and wineryPresent and region_1Present):\n",
    "        return True\n",
    "    else:\n",
    "        return False"
   ]
  },
  {
   "cell_type": "code",
   "execution_count": 24,
   "metadata": {
    "collapsed": true
   },
   "outputs": [],
   "source": [
    "def selectAllDetails(selectedWine):\n",
    "    lst1 = []\n",
    "    onlyIn130kList_allCol.reset_index()\n",
    "    for x in range(0,len(onlyIn130kList_allCol)):\n",
    "        if(selectedWine['variety'].values[0] == onlyIn130kList_allCol[x:x+1]['variety'].values[0] and\n",
    "           selectedWine['winery'].values[0] == onlyIn130kList_allCol[x:x+1]['winery'].values[0] and\n",
    "           selectedWine['price'].values[0] == onlyIn130kList_allCol[x:x+1]['price'].values[0] and\n",
    "           selectedWine['points'].values[0] == onlyIn130kList_allCol[x:x+1]['points'].values[0] and\n",
    "           selectedWine['region_1'].values[0] == onlyIn130kList_allCol[x:x+1]['region_1'].values[0]):\n",
    "            lst1.append(onlyIn130kList_allCol[x:x+1])\n",
    "#     print(\"selected wine details:\\n\",lst1[0])\n",
    "#     print(type(lst1[0]))\n",
    "    return lst1[0]"
   ]
  },
  {
   "cell_type": "code",
   "execution_count": 25,
   "metadata": {
    "collapsed": true
   },
   "outputs": [],
   "source": [
    "def selectWineForPrediction(variety_category,winery_category,region_1_category):\n",
    "    lstVal, retVal = [], []\n",
    "    selectedWine = selectRandomWine()\n",
    "    predictWine = canWineBePredicted(selectedWine['variety'].values[0],selectedWine['winery'].values[0],selectedWine['region_1'].values[0])\n",
    "    if predictWine:\n",
    "#         print(selectedWine)\n",
    "        selWine = selectAllDetails(selectedWine)\n",
    "        lstVal.append(selWine)\n",
    "        predictedVal = predict_points(selectedWine['variety'].values[0],selectedWine['price'].values[0],selectedWine['winery'].values[0],selectedWine['region_1'].values[0])\n",
    "        lstVal.append(predictedVal)\n",
    "        retVal = lstVal\n",
    "    else:\n",
    "        retVal = selectWineForPrediction(variety_category,winery_category,region_1_category)\n",
    "    return retVal"
   ]
  },
  {
   "cell_type": "code",
   "execution_count": 26,
   "metadata": {
    "collapsed": true
   },
   "outputs": [],
   "source": [
    "def selectWine():\n",
    "    selWine = selectWineForPrediction(variety_category,winery_category,region_1_category)\n",
    "#     print(\"selWine:\\n\",selWine)\n",
    "    return selWine\n"
   ]
  },
  {
   "cell_type": "markdown",
   "metadata": {},
   "source": [
    "### Randomly select a wine and predict its Points"
   ]
  },
  {
   "cell_type": "code",
   "execution_count": 27,
   "metadata": {},
   "outputs": [
    {
     "name": "stdout",
     "output_type": "stream",
     "text": [
      "selected Wine:\n",
      "\n"
     ]
    },
    {
     "data": {
      "text/html": [
       "<div>\n",
       "<style>\n",
       "    .dataframe thead tr:only-child th {\n",
       "        text-align: right;\n",
       "    }\n",
       "\n",
       "    .dataframe thead th {\n",
       "        text-align: left;\n",
       "    }\n",
       "\n",
       "    .dataframe tbody tr th {\n",
       "        vertical-align: top;\n",
       "    }\n",
       "</style>\n",
       "<table border=\"1\" class=\"dataframe\">\n",
       "  <thead>\n",
       "    <tr style=\"text-align: right;\">\n",
       "      <th></th>\n",
       "      <th>country</th>\n",
       "      <th>description</th>\n",
       "      <th>designation</th>\n",
       "      <th>points</th>\n",
       "      <th>price</th>\n",
       "      <th>province</th>\n",
       "      <th>region_1</th>\n",
       "      <th>region_2</th>\n",
       "      <th>taster_name</th>\n",
       "      <th>taster_twitter_handle</th>\n",
       "      <th>title</th>\n",
       "      <th>variety</th>\n",
       "      <th>winery</th>\n",
       "    </tr>\n",
       "  </thead>\n",
       "  <tbody>\n",
       "    <tr>\n",
       "      <th>60122</th>\n",
       "      <td>US</td>\n",
       "      <td>Jarvis has assembled a great record with this ...</td>\n",
       "      <td>Finch Hollow Estate Grown</td>\n",
       "      <td>93</td>\n",
       "      <td>115.0</td>\n",
       "      <td>California</td>\n",
       "      <td>Napa Valley</td>\n",
       "      <td>Napa</td>\n",
       "      <td>NaN</td>\n",
       "      <td>NaN</td>\n",
       "      <td>Jarvis 2012 Finch Hollow Estate Grown Chardonn...</td>\n",
       "      <td>Chardonnay</td>\n",
       "      <td>Jarvis</td>\n",
       "    </tr>\n",
       "  </tbody>\n",
       "</table>\n",
       "</div>"
      ],
      "text/plain": [
       "      country                                        description  \\\n",
       "60122      US  Jarvis has assembled a great record with this ...   \n",
       "\n",
       "                     designation  points  price    province     region_1  \\\n",
       "60122  Finch Hollow Estate Grown      93  115.0  California  Napa Valley   \n",
       "\n",
       "      region_2 taster_name taster_twitter_handle  \\\n",
       "60122     Napa         NaN                   NaN   \n",
       "\n",
       "                                                   title     variety  winery  \n",
       "60122  Jarvis 2012 Finch Hollow Estate Grown Chardonn...  Chardonnay  Jarvis  "
      ]
     },
     "metadata": {},
     "output_type": "display_data"
    },
    {
     "name": "stdout",
     "output_type": "stream",
     "text": [
      "predicted Points: 93\n"
     ]
    }
   ],
   "source": [
    "selWine = selectWine()\n",
    "# print(\"selected Wine all details\\n:\", selWine)\n",
    "\n",
    "selectedWine = selWine[0]\n",
    "predictedRating = selWine[1]\n",
    "print(\"selected Wine:\\n\")\n",
    "display(selectedWine)\n",
    "print(\"predicted Points:\", predictedRating)\n"
   ]
  },
  {
   "cell_type": "code",
   "execution_count": 28,
   "metadata": {},
   "outputs": [
    {
     "name": "stdout",
     "output_type": "stream",
     "text": [
      "Unique categorical values for Variety: 336\n",
      "Unique categorical values for Winery: 7162\n",
      "Unique categorical values for Region_1: 946\n"
     ]
    }
   ],
   "source": [
    "print(\"Unique categorical values for Variety:\",len(variety_category))\n",
    "print(\"Unique categorical values for Winery:\",len(winery_category))\n",
    "print(\"Unique categorical values for Region_1:\",len(region_1_category))"
   ]
  }
 ],
 "metadata": {
  "kernelspec": {
   "display_name": "Python [conda env:PythonData4]",
   "language": "python",
   "name": "conda-env-PythonData4-py"
  },
  "language_info": {
   "codemirror_mode": {
    "name": "ipython",
    "version": 3
   },
   "file_extension": ".py",
   "mimetype": "text/x-python",
   "name": "python",
   "nbconvert_exporter": "python",
   "pygments_lexer": "ipython3",
   "version": "3.6.1"
  }
 },
 "nbformat": 4,
 "nbformat_minor": 1
}
